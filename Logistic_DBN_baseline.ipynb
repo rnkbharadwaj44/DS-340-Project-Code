{
  "nbformat": 4,
  "nbformat_minor": 0,
  "metadata": {
    "colab": {
      "provenance": []
    },
    "kernelspec": {
      "name": "python3",
      "display_name": "Python 3"
    },
    "language_info": {
      "name": "python"
    }
  },
  "cells": [
    {
      "cell_type": "code",
      "execution_count": null,
      "metadata": {
        "id": "Di31geeWZUma"
      },
      "outputs": [],
      "source": [
        "!pip install yfinance"
      ]
    },
    {
      "cell_type": "code",
      "source": [
        "import yfinance as yf\n",
        "import numpy as np\n",
        "import pandas as pd\n",
        "from scipy.stats import kurtosis\n",
        "from sklearn.datasets import fetch_openml\n",
        "from sklearn.model_selection import train_test_split\n",
        "from sklearn.preprocessing import StandardScaler\n",
        "from sklearn.neural_network import BernoulliRBM\n",
        "from sklearn.pipeline import Pipeline\n",
        "from sklearn.linear_model import LogisticRegression\n",
        "from sklearn.metrics import classification_report, confusion_matrix"
      ],
      "metadata": {
        "id": "fmZux9AMZZHI"
      },
      "execution_count": null,
      "outputs": []
    },
    {
      "cell_type": "code",
      "source": [
        "start = '2012-01-01'\n",
        "end = '2023-12-31'\n",
        "interval = '1d'\n",
        "symbols = ['AAPL', 'NVDA', 'MSFT', 'AMZN', 'META', 'GOOGL', 'BRK.B','GOOG','AVGO', 'TSLA', 'LLY', 'JPM', 'XOM', 'UNH', 'V', 'MA', 'HD', 'PG', 'COST', 'JNJ', 'WMT', 'ABBV', 'NFLX', 'BAC', 'CRM']\n",
        "data = pd.DataFrame()\n",
        "\n",
        "\n",
        "for x in symbols:\n",
        "    current_data = yf.download(x, start=start, end=end, interval=interval)\n",
        "    current_data.columns = current_data.columns.get_level_values(0)\n",
        "    current_data.reset_index(inplace=True)\n",
        "    current_data['Date'] = current_data['Date'].dt.date\n",
        "    current_data['Symbol'] = x\n",
        "    data = pd.concat([data, current_data], ignore_index=True)\n",
        "\n",
        "\n",
        "data[\"AnnReturn\"] = data['Adj Close'].pct_change()\n",
        "data['v20'] = data['AnnReturn'].rolling(window = 20).var() * 252\n",
        "data['k20'] = data['AnnReturn'].rolling(window = 20).apply(kurtosis, raw = True)\n",
        "data['vol10'] = data['Volume'].rolling(window=10).mean()\n",
        "data['vema12'] = data['Volume'].ewm(span=12, adjust=False).mean()\n",
        "data['vstd20'] = data['Volume'].rolling(window=20).std()\n",
        "data['ar'] = (data['High'].rolling(window=26).sum() - data['Open'].rolling(window=26).sum()) / (data['Open'].rolling(window=26).sum() - data['Low'].rolling(window=26).sum()) * 100\n",
        "data['br'] = (data['High'].rolling(window=26).sum() - data['Close'].shift(1).rolling(window=26).sum()) / (data['Close'].shift(1).rolling(window=26).sum() - data['Low'].rolling(window=26).sum()) * 100\n",
        "\n",
        "\n",
        "data = data.dropna()\n",
        "data = data.reset_index(drop=True)\n",
        "data.columns.name = None\n",
        "data['close_change_pct'] = data.groupby('Symbol')['Close'].pct_change()\n",
        "\n",
        "data['Label'] = 0\n",
        "for x in symbols:\n",
        "    pct_mean = data[data['Symbol'] == x]['close_change_pct'].mean()\n",
        "    pct_std = data[data['Symbol'] == x]['close_change_pct'].std()\n",
        "    for j in data[data['Symbol'] == x].index:\n",
        "        if data.at[j, 'close_change_pct'] >= (pct_mean + pct_std):\n",
        "            data.at[j, 'Label'] = 2\n",
        "        elif 0 < data.at[j, 'close_change_pct'] < (pct_mean + pct_std):\n",
        "            data.at[j, 'Label'] = 1\n",
        "        else:\n",
        "            data.at[j, 'Label'] = 0\n",
        "\n",
        "data = data.dropna()"
      ],
      "metadata": {
        "id": "yi2PWJMbZeFk"
      },
      "execution_count": null,
      "outputs": []
    },
    {
      "cell_type": "code",
      "source": [
        "dbn_input = data.drop(columns=['Symbol', 'Data'])\n",
        "x = dbn_input.drop(columns=['Label'])\n",
        "y = dbn_input['Label']\n",
        "\n",
        "x_train, x_test, y_train, y_test = train_test_split(dbn_input, test_size = 0.15, random_state = 1)\n",
        "sclr = StandardScaler()\n",
        "x_train = sclr.fit_transform(x_train)\n",
        "x_test = slclr.fit_trainsform(x_test)\n",
        "\n",
        "layer_1 = BernoulliRBM(n_components = 100, learning_rate = 0.3, n_iter = 1500, verbose = True)\n",
        "l1_x_train = layer_1.fit_transform(x_train)\n",
        "l1_x_test = layer_1.fit_transform(x_test)\n",
        "\n",
        "layer_2 = BernoulliRBM(n_components = 100, learning_rate = 0.3, n_iter = 1500, verbose = True)\n",
        "l2_x_train = layer_2.fit_transform(l1_x_train)\n",
        "l2_x_test = layer_2.fit_transform(l1_x_test)\n",
        "\n",
        "layer_3 = BernoulliRBM(n_components = 40, learning_rate = 0.3, n_iter = 1500, verbose = True)\n",
        "l3_x_train = layer_3.fit_transform(l2_x_train)\n",
        "l3_x_test = layer_3.fit_transform(l2_x_test)\n",
        "\n",
        "log_model = LogisticRegression(max_iter = 100)\n",
        "log_model.fit(l3_x_train, y_train)\n",
        "preds = log_model.predict(l3_x_test)\n",
        "\n",
        "print(classification_report(y_test, preds))"
      ],
      "metadata": {
        "id": "bfVQdjz8Zg6J"
      },
      "execution_count": null,
      "outputs": []
    }
  ]
}